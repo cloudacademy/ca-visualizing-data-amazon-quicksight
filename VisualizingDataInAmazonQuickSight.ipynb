{
 "cells": [
  {
   "cell_type": "markdown",
   "metadata": {},
   "source": [
    "# Visualizing Data in Amazon QuickSight"
   ]
  },
  {
   "cell_type": "markdown",
   "metadata": {},
   "source": [
    "This lab focuses on putting our data to work, by visualizing it and drawing insights."
   ]
  },
  {
   "cell_type": "markdown",
   "metadata": {},
   "source": [
    "## Amazon QuickSight"
   ]
  },
  {
   "cell_type": "markdown",
   "metadata": {},
   "source": [
    "Amazon QuickSight is a cloud powered dashboard that can be used to deliver insights into your data. Quicksight allows you share dashboards, email reports, and embedded analytics. This allows you to show your company and your customers in an elegant way. By taking your data and visually displaying the questions you want answered, you can gain relevant insights your company.ed Data"
   ]
  },
  {
   "cell_type": "markdown",
   "metadata": {},
   "source": [
    "## Creating the Database"
   ]
  },
  {
   "cell_type": "markdown",
   "metadata": {},
   "source": [
    "Navigate to [Amazon RDS](https://us-west-2.console.aws.amazon.com/rds/home?region=us-west-2#databases:) and find the created database. It can take up to 10 minutes to complete provisioning. Record the host (endpoint) to update in the code block below once the database is ready.\n",
    "\n",
    "![Hostname](./assets/lab2/Lab2_Hostname.png)"
   ]
  },
  {
   "cell_type": "markdown",
   "metadata": {},
   "source": [
    "### Populating the Database with Mock Data"
   ]
  },
  {
   "cell_type": "markdown",
   "metadata": {},
   "source": [
    "Here's some code to populate the database"
   ]
  },
  {
   "cell_type": "code",
   "execution_count": null,
   "metadata": {},
   "outputs": [],
   "source": [
    "! pip install mysql-connector-python\n",
    "\n",
    "import mysql.connector, csv\n",
    "## Make sure the Host matches your RDS instance captured in the previous step\n",
    "mydb = mysql.connector.connect(\n",
    "  host=\"inventory.cxz4yqgmagjq.us-west-2.rds.amazonaws.com\", \n",
    "  user=\"admin\",\n",
    "  passwd=\"demotest123\"\n",
    ")\n",
    "\n",
    "cursor = mydb.cursor()\n",
    "cursor.execute(\"CREATE DATABASE IF NOT EXISTS inventory_quicksight\")\n",
    "mydb.database = \"inventory_quicksight\"\n",
    "cursor.execute(\"CREATE TABLE IF NOT EXISTS product_table_qs (ProductName varchar(50),Description varchar(255),ProductSku bigint(12),QuantityInStock int(5),ReorderLevel int(5),WholeSaleCost decimal(8,2),RetailCost decimal(8,2));\")\n",
    "\n",
    "print(\"Database setup complete.\")\n",
    "with open('./data_files/Lab2_Inventory.csv') as datafile:\n",
    "    csv_data = csv.reader(datafile)\n",
    "    next(csv_data) \n",
    "    for row in csv_data:\n",
    "        cursor.execute (\"INSERT INTO product_table_qs (ProductName,Description,ProductSku,QuantityInStock,ReorderLevel,WholeSaleCost,RetailCost) VALUES (%s, %s, %s, %s, %s, %s, %s)\",row)\n",
    "    mydb.commit()\n",
    "print(\"Success! Data inserted\")\n",
    "mydb.close()"
   ]
  },
  {
   "cell_type": "markdown",
   "metadata": {},
   "source": [
    "Cool right? Now that we have our data let's use Amazon Quicksight to visualize it."
   ]
  },
  {
   "cell_type": "markdown",
   "metadata": {},
   "source": [
    "## Creating Visualizations in Quicksight"
   ]
  },
  {
   "cell_type": "markdown",
   "metadata": {},
   "source": [
    "*Important!* **<ins>You will not have access to Amazon QuickSight with your student account.</ins> What follows is for you to read only. We are working on a solution to return access to QuickSight in light of recent pricing model changes and IAM security limitations in Amazon QuickSight.** In the meantime, you can read the following parts and grasp the learning objectives for this lab."
   ]
  },
  {
   "cell_type": "markdown",
   "metadata": {},
   "source": [
    "### Creating an Amazon QuickSight Standard Account\n",
    "\n",
    "The QuickSight service is not enabled by default and needs to be enabled in the AWS account you are using the first time QuickSight is used. If your account already has QuickSight enabled, you can skip to the next section.\n",
    "\n",
    "1. Navigate to [the QuickSight start page](https://us-west-2.quicksight.aws.amazon.com/sn/start).\n",
    "\n",
    "1. Click **Sign up for QuickSight**:\n",
    "    \n",
    "    ![Sign up for QuickSight](./assets/lab2/quicksight_signup.png)\n",
    "\n",
    "1. Select the **Standard** Edition of QuickSight and click **Continue**.\n",
    "\n",
    "    On the page that appears you will see the following error which can safely be ignored:\n",
    "\n",
    "    ![Sign up error](./assets/lab2/signup_error.png)\n",
    "\n",
    "    Despite the message, you can subscribe to QuickSight with all that is required for this lab.\n",
    "\n",
    "1. In the **Create your QuickSight account** form, set the following values before clicking **Finish**:\n",
    "\n",
    "    - **QuickSight account name**: Enter _calabs-#####_ where _#####_ is a unique 5-digit number\n",
    "    - **Notification email address**: Enter <em>fake@quicksight.email</em>.  Email notifications are not important for this lab.\n",
    "    - Uncheck all of the checkboxes. You will manually configure the connection to your RDS database in the next section.\n",
    "\n",
    "    ![QuickSight Account Configuration](./assets/lab2/quicksight_config.png)\n",
    "\n",
    "    After a minute you will see the following confirming your QuickSight Standard account is ready to use:\n",
    "\n",
    "    ![QuickSight account ready](./assets/lab2/account_ready.png)\n",
    "\n",
    "1. Click **Go to Amazon QuickSight**."
   ]
  },
  {
   "cell_type": "markdown",
   "metadata": {},
   "source": [
    "### Connect To Our Database"
   ]
  },
  {
   "cell_type": "markdown",
   "metadata": {},
   "source": [
    "First navigate to the [Amazon QuickSight start page](https://us-west-2.quicksight.aws.amazon.com/sn/start).\n",
    "In the top right, click the __New analysis__ button. We'll be using the new dataset we created earlier, so next click on __New Dataset__.\n",
    "There are a lot of options to choose from, from Twitter, to data files, to databases.\n",
    "We'll be sticking with our MySQL database, so lets connect to that.\n",
    "Click on the __MySQL__ button\n",
    "You'll be preseted with a form to connect to the database.\n",
    "\n",
    "![QuickSight Datastore Setup](./assets/lab2/Lab2_QuickSightSetup.png)\n",
    "- **Datasource Name**: Enter _Inventory_. This is the name to be referenced when viewing the datasource on Quicksight.\n",
    "- **Connection Type**: Leave this as _Public Network_ for now.\n",
    "- **Database Server**: Enter the endpoint of the RDS instance you used for the Host variable in the code block above (don't include the quotation marks). This is the connection URL.\n",
    "- **Port**: Enter MySQL's default port number _3306_\n",
    "- **Database Name**:  Enter <em>inventory_quicksight</em> (which is the name of the database created by the code block above).\n",
    "- **Username**: Enter _admin_.\n",
    "- **Password**: Enter _demotest123_.\n",
    "\n",
    "You can test the database connection before continuing by clicking the __Validate Connection__ button in the bottom left. Next click __Create Datasource__ to have QuickSight start using your database. You will be prompted to select the table that we should visualize. Click the radio button next to `product_table_qs` then press the __Select__ button.  Finally select `Import to SPICE for quicker analytics` if there is capacity availble (if not, it is OK to choose `Directly query your data`) and press the __Visualize__ button."
   ]
  },
  {
   "cell_type": "markdown",
   "metadata": {},
   "source": [
    "## Creating Your First Analysis"
   ]
  },
  {
   "cell_type": "markdown",
   "metadata": {},
   "source": [
    "![QuickSight Visualize Page](./assets/lab2/Lab2_QuickSight_Visualize.png)\n",
    "\n",
    "You should now see the QuickSight Visualize page, if you do not go back to the [Amazon QuickSight start page](https://us-west-2.quicksight.aws.amazon.com/sn/start)  click on the button in the top left corner of your screen that says __New analysis__, select the datasource `product_table_qs` then click the __Create Analysis__ button."
   ]
  },
  {
   "cell_type": "markdown",
   "metadata": {},
   "source": [
    "Now that we are in the visualize page there are a lot of different options to work with.\n",
    "Let's go over a few of the sections before diving in.\n",
    "\n",
    "- **Fields**: These reflect the columns of the table in the database.\n",
    "- **Visual Types**: This is how your data will be represented. This can be from a simple sum, to a chart/graph, or even a heat map.\n",
    "- **Sheets**: These allow for multiple visuals to be stored together in a single page. To keep things simple, we'll be working with only one sheet.\n"
   ]
  },
  {
   "cell_type": "markdown",
   "metadata": {},
   "source": [
    "#### **Lab:** Lets build our first QuickSight Visualization!"
   ]
  },
  {
   "cell_type": "markdown",
   "metadata": {},
   "source": [
    "First in the _Visual Types_ click the __Doughnut Chart__.  Notice the __Field wells__ that appeared at the top. This is where you'll put the data being represented."
   ]
  },
  {
   "cell_type": "markdown",
   "metadata": {},
   "source": [
    "Drag `ProductName` from the fields into the __Group/Color__ box. Next, drag `QuantityInStock` to the __Value__ box.\n",
    "The graph will be automatically generated based on the data in the database.  For the `QuantityInStock` __Value__ select the drop down arrow and change the aggregate to __Max__.\n",
    "You should see a graph similar to the following on your screen.\n",
    "\n",
    "![QuickSight Visualization](./assets/lab2/Lab2_QuickSight_Visualization_1.png)"
   ]
  },
  {
   "cell_type": "markdown",
   "metadata": {},
   "source": [
    "Thats it! You've just created your first visualization. Try changing the __Visual Type__ of this data and see how it's represented. You might need to add addition fields to the __Field wells__ to make it populate correctly."
   ]
  },
  {
   "cell_type": "markdown",
   "metadata": {},
   "source": [
    "**Quick Note**: QuickSight, by default, has an automatic save feature enabled by default for each analysis. This can be switched off at the bar at the top. You can also change the name of this analysis by changing the text in the bar."
   ]
  },
  {
   "cell_type": "markdown",
   "metadata": {},
   "source": [
    "#### **Lab:** Calculate Wholesale And Retail Value of our Inventory"
   ]
  },
  {
   "cell_type": "markdown",
   "metadata": {},
   "source": [
    "**Goal**: Create a new analysis from the Inventory database created earlier that displays a bar graph that sums wholesale value of all prodcuts whose value is _over 8_. The graph data should be sorted in ascending alphabetical order by the product's name.\n",
    "\n",
    "We'll go over how to produce the end result in a moment, but I encourage you to try this on your own from beginning to end.\n",
    "It will go over everything we covered in the previous section, along with some extra work that hasn't be covered yet.\n",
    "Be sure to start at the QuickSight front page."
   ]
  },
  {
   "cell_type": "markdown",
   "metadata": {},
   "source": [
    "![Lab 2 Final Result](assets/lab2/Lab2_Final_Result.png)"
   ]
  },
  {
   "cell_type": "markdown",
   "metadata": {},
   "source": [
    "#### Lab Solution Tips"
   ]
  },
  {
   "cell_type": "markdown",
   "metadata": {},
   "source": [
    "Click the __New Analysis__ button in the top left of the page."
   ]
  },
  {
   "cell_type": "markdown",
   "metadata": {},
   "source": [
    "Select the `product_table_qs` dataset from the list."
   ]
  },
  {
   "cell_type": "markdown",
   "metadata": {},
   "source": [
    "Click the __Create analysis__ button at the prompt"
   ]
  },
  {
   "cell_type": "markdown",
   "metadata": {},
   "source": [
    "Under **Visual Types**, select the __Horizontal bar chart__ option."
   ]
  },
  {
   "cell_type": "markdown",
   "metadata": {},
   "source": [
    "Now comes the time to select the proper fields. Begin by selecting __ProductName__ from the **Field List** area. QuickSight is smart enough, and will automatically apply that column to the Y-axis. Next, select the `WholeSaleCost` field. QuickSight will add it as the `Value` for the graph."
   ]
  },
  {
   "cell_type": "markdown",
   "metadata": {},
   "source": [
    "The graph is almost complete! Be default, the graph will sort in decending order from based on the `Value`.\n",
    "To change the order, click the drop down menu under `ProductName`.\n",
    "There are two icons and the column name that determines the sorting order.\n",
    "Select the ascending button.\n",
    "It will adjust the data in a weird way, but that will be fixed once you adjust the column.\n",
    "Click the drop down menu again and under the column, select `ProductName`."
   ]
  },
  {
   "cell_type": "markdown",
   "metadata": {},
   "source": [
    "The final piece is limiting the graph to only show prodcuts whose whole sale cost is over 8.\n",
    "This is done with QuickSight filters.\n",
    "On the left side of the page, select **Filter** from the menu.\n",
    "As expected, there are no filters applied at the moment.\n",
    "Select the `+` symbol next to **Filters** and select the column `WholeSaleCost`.\n",
    "Instantly, you'll see the filter applied, but nothing changed!\n",
    "The filter needs to be adjusted, as it requires a value to be filtered on, but is not set yet.\n",
    "Select the filter we just created.\n",
    "Above the red error box, enter in the value 8.\n",
    "The last thing to adjust is the second drop down in the filter.\n",
    "It currently says __Equals__, but needs to be changed to __Greater than or equal to__.\n",
    "To save the filter, select the __Apply__ button at the bottom.\n",
    "Your graph will be updated, and you can now close out of the filter dialog."
   ]
  },
  {
   "cell_type": "markdown",
   "metadata": {},
   "source": [
    "Your analysis is complete!"
   ]
  },
  {
   "cell_type": "markdown",
   "metadata": {},
   "source": [
    "**Bonus**: Try to add a second __Value__ in your visualization. Add the `RetailCost` data so that both are displayed in the bar graph."
   ]
  },
  {
   "cell_type": "markdown",
   "metadata": {},
   "source": [
    "## Cleaning Up\n",
    "\n",
    "1. Click the QuickSight logo in the upper-left corner to return to the QuickSight homepage:\n",
    "\n",
    "    ![QuickSight Logo](./assets/lab2/quicksight_logo.png)\n",
    "\n",
    "1. Click the lower-right corner of each of your analysis cards followed by **Delete** and confirm your intention to **Delete** in the pop-up."
   ]
  }
 ],
 "metadata": {
  "kernelspec": {
   "display_name": "conda_python3",
   "language": "python",
   "name": "conda_python3"
  },
  "language_info": {
   "codemirror_mode": {
    "name": "ipython",
    "version": 3
   },
   "file_extension": ".py",
   "mimetype": "text/x-python",
   "name": "python",
   "nbconvert_exporter": "python",
   "pygments_lexer": "ipython3",
   "version": "3.6.5"
  }
 },
 "nbformat": 4,
 "nbformat_minor": 4
}
